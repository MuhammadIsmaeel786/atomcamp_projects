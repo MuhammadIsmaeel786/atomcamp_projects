{
 "cells": [
  {
   "cell_type": "markdown",
   "id": "1a561104",
   "metadata": {},
   "source": [
    "# Assignment: Python Basics\n",
    "# Instructions:\n",
    "# 1. Complete the following tasks based on the concepts covered in the \"Python Basics\" session. Write your Python code in a .py file or use a Jupyter Notebook to solve the problems.\n",
    "# 2. Ensure that your code is well-commented, and variable names are descriptive.\n",
    "# 3. If any task requires output, print the result to the console.\n",
    "# 4. Submit the completed .py file or Jupyter Notebook."
   ]
  },
  {
   "cell_type": "code",
   "execution_count": 2,
   "id": "74b1099b",
   "metadata": {},
   "outputs": [
    {
     "name": "stdout",
     "output_type": "stream",
     "text": [
      "Name : Ismaeel\n",
      "Age : 24\n",
      "Is a Student : True\n",
      "Age : 49\n",
      "Ismaeel Smith.\n",
      "Is a Student : False\n"
     ]
    }
   ],
   "source": [
    "# Task 1: Variables and Data Types\n",
    "# a) Create three variables: one for storing your age (integer), one for your name (string), and one to check if you are a student (Boolean). Print the variables.\n",
    "# b) Perform the following operations and print the results:\n",
    "#    - Add 25 to your age variable.\n",
    "#    - Concatenate your name with the string \"Smith.\"\n",
    "#    - Negate the Boolean variable (if True, make it False, and vice versa).\n",
    "#a\n",
    "age = 24\n",
    "name = \"Ismaeel\"\n",
    "student = True\n",
    "print(\"Name :\" , name)\n",
    "print(\"Age :\", age)\n",
    "print(\"Is a Student :\",student)\n",
    "#b\n",
    "print(\"Age :\",age+25)\n",
    "print(name, \"Smith.\")\n",
    "print(\"Is a Student :\",not student)"
   ]
  },
  {
   "cell_type": "code",
   "execution_count": 3,
   "id": "2c6de913",
   "metadata": {},
   "outputs": [
    {
     "name": "stdout",
     "output_type": "stream",
     "text": [
      "17.875\n",
      "68.0\n",
      "78.53975\n"
     ]
    }
   ],
   "source": [
    "# Task 2: Expressions and Operators\n",
    "# a) A rectangle has a width of 5.5 units and a height of 3.25 units. Store width and height in variables. Create a new variable called area and write an expression to calculate the area. Print the area in the output. \n",
    "# b) Create a temperature variable in Celsius. Convert it to Fahrenheit using the formula: F = (C * 9/5) + 32. Store this temperature in a variable called Fahrenheit and print this variable.\n",
    "# a) Create a variable called radius and give it a value of 5. Calculate the area of a circle with this radius and store it in a variable called area. Print area at the end of your code. (Use the formula: area = π * radius^2, where π (pi) is approximately 3.14159). \n",
    "\n",
    "#a\n",
    "width = 5.5\n",
    "height = 3.25\n",
    "area = width * height\n",
    "print(area)\n",
    "#b\n",
    "c = 20\n",
    "fahrenheit = (c * 9/5) + 32\n",
    "print(fahrenheit)\n",
    "#c \n",
    "radius = 5\n",
    "area2 = 3.14159 * radius**2\n",
    "print(area2)"
   ]
  },
  {
   "cell_type": "code",
   "execution_count": 4,
   "id": "f56af0fb",
   "metadata": {},
   "outputs": [
    {
     "name": "stdout",
     "output_type": "stream",
     "text": [
      "['apple', 'banana', 'orange', 'grape', 'kiwi']\n",
      "('January', 'February', 'March')\n"
     ]
    }
   ],
   "source": [
    "# Task 3: Introduction to Data Structures\n",
    "# a) Create a list called \"fruits\" containing the following fruits: \"apple,\" \"banana,\" \"orange,\" \"grape,\" and \"kiwi.\" Print the list.\n",
    "# b) Create a tuple named \"months\" with the names of the first three months of the year. Print the tuple.\n",
    "fruits = [\"apple\", \"banana\", \"orange\", \"grape\", \"kiwi\"]\n",
    "print(fruits)\n",
    "\n",
    "# b)\n",
    "months = (\"January\", \"February\", \"March\")\n",
    "\n",
    "print(months)\n",
    "\n"
   ]
  },
  {
   "cell_type": "code",
   "execution_count": 5,
   "id": "21875113",
   "metadata": {},
   "outputs": [
    {
     "name": "stdout",
     "output_type": "stream",
     "text": [
      "Sum of Numbers: 426\n",
      "Average of Numbers : 53.25\n",
      "['banana', 'orange', 'grape']\n"
     ]
    }
   ],
   "source": [
    "# Task 4: List Manipulation\n",
    "# a) Given the list of numbers below, write a Python program to calculate the sum and average of these numbers. Print both results.\n",
    "#    numbers = [12, 34, 45, 67, 89, 100, 23, 56]\n",
    "# b) Remove the first and last elements from the \"fruits\" list created earlier. Print the updated list.\n",
    "\n",
    "numbers = [12, 34, 45, 67, 89, 100, 23, 56]\n",
    "sum = 0\n",
    "for i in numbers:\n",
    "    sum += i\n",
    "\n",
    "print(\"Sum of Numbers:\", sum)\n",
    "\n",
    "average = sum / len(numbers)\n",
    "print(\"Average of Numbers :\",average)\n",
    "\n",
    "#b\n",
    "fruits.pop(0)\n",
    "fruits.pop(-1)\n",
    "print(fruits)\n"
   ]
  },
  {
   "cell_type": "code",
   "execution_count": 6,
   "id": "ab6d79ad",
   "metadata": {},
   "outputs": [
    {
     "name": "stdout",
     "output_type": "stream",
     "text": [
      "{'USA': 'Washington D.C.', 'France': 'Paris', 'Japan': 'Tokyo'}\n",
      "{'USA': 'Washington D.C.', 'France': 'Paris', 'Japan': 'Tokyo', 'Germany': 'Berlin'}\n",
      "France is in the dictionary\n"
     ]
    }
   ],
   "source": [
    "\n",
    "# Task 5: Dictionary Operations\n",
    "# a) Create a dictionary named \"capitals\" with three key-value pairs: \"USA\" - \"Washington D.C.,\" \"France\" - \"Paris,\" and \"Japan\" - \"Tokyo.\" Print the dictionary.\n",
    "# b) Add a new country and its capital to the \"capitals\" dictionary. The country is \"Germany,\" and the capital is \"Berlin.\" Print the updated dictionary.\n",
    "# c) Check if \"France\" exists in the \"capitals\" dictionary. If it does, print \"France is in the dictionary,\" otherwise, print \"France is not in the dictionary.\" (at the end of the lab notebook for session 1, I have added an example of how to use “in” in python).\n",
    "#a \n",
    "capitals = {\"USA\": \"Washington D.C.\", \"France\": \"Paris\", \"Japan\": \"Tokyo\"}\n",
    "print(capitals)\n",
    "\n",
    "#b\n",
    "capitals[\"Germany\"] = \"Berlin\"\n",
    "print(capitals)\n",
    "\n",
    "#c\n",
    "if \"France\" in capitals:\n",
    "    print(\"France is in the dictionary\")"
   ]
  },
  {
   "cell_type": "code",
   "execution_count": 9,
   "id": "a235058f",
   "metadata": {},
   "outputs": [
    {
     "name": "stdout",
     "output_type": "stream",
     "text": [
      "Enter a number: 4\n",
      "The number is even\n",
      "Enter your age: 24\n",
      "Enter your GPA: 3.0\n",
      "Eligible for admission\n"
     ]
    }
   ],
   "source": [
    "# Task 6: Comparison Operators, Logical Operators and If/Else:\n",
    "# a) Create a variable called number that takes user input (we studied the input() function). Next, write a block of code that checks if the number is even or odd (hint: modulo operator. Refer to lab notebook 1). \n",
    "# Your output should print “The number is even”, or the “The number is odd”. \n",
    "# b) Create two variables called age and GPA. Give them values of your choice. Next, write a block of code to check if a student with this age and GPA is eligible for admission. The following are the conditions:\n",
    "#    - The student must be at least 18 years old.\n",
    "#    - The student's GPA must be 3.0 or higher on a scale of 4.0.\n",
    "#    Your output should print “Eligible for admission” or “Not eligible for admission”.\n",
    "\n",
    "#a\n",
    "number = int(input(\"Enter a number: \")) \n",
    "if number % 2 == 0:\n",
    "    print(\"The number is even\")\n",
    "else:\n",
    "    print(\"The number is odd\")\n",
    "\n",
    "#b\n",
    "age = int(input(\"Enter your age: \"))\n",
    "GPA = float(input(\"Enter your GPA: \"))\n",
    "\n",
    "if age >= 18 and GPA >= 3.0:\n",
    "    print(\"Eligible for admission\")"
   ]
  },
  {
   "cell_type": "code",
   "execution_count": 14,
   "id": "49e0879c",
   "metadata": {},
   "outputs": [
    {
     "name": "stdout",
     "output_type": "stream",
     "text": [
      "{1, 2, 3, 4, 5, 6, 7}\n",
      "{3, 4, 5}\n",
      "{1, 2}\n",
      "Set1 is a subset of Set2? False\n"
     ]
    }
   ],
   "source": [
    "# Task 7: Advanced Data Types\n",
    "# a) Create a set named \"fruits_set\" containing the following fruits: \"apple,\" \"banana,\" \"orange,\" \"grape,\" and \"kiwi.\" Print the set.\n",
    "# b) Given two sets:\n",
    "#    set1 = {1, 2, 3, 4, 5}\n",
    "#    set2 = {3, 4, 5, 6, 7}\n",
    "#    Write Python code to perform the following operations and print the results:\n",
    "#    - Union of set1 and set2.\n",
    "#    - Intersection of set1 and set2.\n",
    "#    - Difference between set1 and set2.\n",
    "#    - Check if set1 is a subset of set2.\n",
    "\n",
    "#a\n",
    "set1 = {1, 2, 3, 4, 5}\n",
    "set2 = {3, 4, 5, 6, 7}\n",
    "union = set1 | set2\n",
    "intersection = set1 & set2\n",
    "difference = set1 - set2\n",
    "print(union)\n",
    "print(intersection)\n",
    "print(difference)\n",
    "print(\"Set1 is a subset of Set2?\", set1.issubset(set2))"
   ]
  },
  {
   "cell_type": "code",
   "execution_count": 15,
   "id": "235e1ede",
   "metadata": {},
   "outputs": [
    {
     "name": "stdout",
     "output_type": "stream",
     "text": [
      "Python programming is fun and powerful!\n",
      "Length of My Sentence : 39\n",
      "Upper case of Sentence : <built-in method upper of str object at 0x000001DA775A3630>\n",
      "String After Replacing Word : Python programming is fun and powerful!\n",
      "Contains Python in Sentence : True\n",
      "The list of Words in Sentence ['Python', 'programming', 'is', 'fun', 'and', 'powerful!']\n"
     ]
    }
   ],
   "source": [
    "# Task 8: Strings Manipulation\n",
    "# a) Create a string variable containing the following sentence:\n",
    "#    \"Python programming is fun and powerful!\"\n",
    "#    Write Python code to do the following and print the results:\n",
    "#    - Find the length of the string.\n",
    "#    - Convert the string to uppercase.\n",
    "#    - Replace \"fun\" with \"exciting.\"\n",
    "#    - Check if the string contains the word \"Python.\"\n",
    "#    - Split the string into a list of words.\n",
    "\n",
    "\n",
    "#a \n",
    "sentence = \"Python programming is fun and powerful!\"\n",
    "length_sentence = len(sentence)\n",
    "upper_case_sentence = sentence.upper\n",
    "replace_word_sentence = sentence.replace(\"Fun\",\"Excititng\")\n",
    "contains_python_sentence = \"Python\" in sentence\n",
    "sentence_word_list = sentence.split()\n",
    "\n",
    "print(sentence)\n",
    "print(\"Length of My Sentence :\",length_sentence)\n",
    "print(\"Upper case of Sentence :\",upper_case_sentence)\n",
    "print(\"String After Replacing Word :\" ,replace_word_sentence)\n",
    "print(\"Contains Python in Sentence :\", contains_python_sentence )\n",
    "print(\"The list of Words in Sentence\",sentence_word_list)"
   ]
  },
  {
   "cell_type": "code",
   "execution_count": null,
   "id": "45462cf7",
   "metadata": {},
   "outputs": [],
   "source": []
  }
 ],
 "metadata": {
  "kernelspec": {
   "display_name": "Python 3 (ipykernel)",
   "language": "python",
   "name": "python3"
  },
  "language_info": {
   "codemirror_mode": {
    "name": "ipython",
    "version": 3
   },
   "file_extension": ".py",
   "mimetype": "text/x-python",
   "name": "python",
   "nbconvert_exporter": "python",
   "pygments_lexer": "ipython3",
   "version": "3.9.13"
  }
 },
 "nbformat": 4,
 "nbformat_minor": 5
}
